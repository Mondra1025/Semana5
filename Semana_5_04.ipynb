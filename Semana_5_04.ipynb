{
 "cells": [
  {
   "cell_type": "markdown",
   "id": "19fb3787",
   "metadata": {},
   "source": [
    "# Semana 5"
   ]
  },
  {
   "cell_type": "raw",
   "id": "346a4410",
   "metadata": {},
   "source": [
    "Ing. Alberto Ismael Mondragon Parodi"
   ]
  },
  {
   "cell_type": "raw",
   "id": "95f53f9b",
   "metadata": {},
   "source": [
    "1. Colecciones de datos\n",
    "2. Bucles y condiciones\n",
    "3. Funciones\n",
    "4. Clases y objetos"
   ]
  },
  {
   "cell_type": "raw",
   "id": "cb099dd1",
   "metadata": {},
   "source": [
    "4. Clases y Objetos"
   ]
  },
  {
   "cell_type": "code",
   "execution_count": 2,
   "id": "8c07701b",
   "metadata": {},
   "outputs": [
    {
     "name": "stdout",
     "output_type": "stream",
     "text": [
      "Persona1:\n",
      "Nombre: Alberto\n",
      "Apellidos: Mondragon Parodi\n",
      "Dni: 74500833\n",
      "Talla: 1.84\n"
     ]
    }
   ],
   "source": [
    "#Creamos la clase persona\n",
    "class Persona:\n",
    "    nombre=\"\"\n",
    "    apellidos=\"\"\n",
    "    dni=\"\"\n",
    "    talla=0\n",
    "#Creción del objeto personal\n",
    "persona1= Persona()\n",
    "\n",
    "#Asiganmos valores al objeto\n",
    "persona1.nombre=\"Alberto\"\n",
    "persona1.apellidos=\"Mondragon Parodi\"\n",
    "persona1.dni=\"74500833\"\n",
    "persona1.talla=1.84\n",
    "\n",
    "#Imprimimos la clase\n",
    "print(\"Persona1:\")\n",
    "print(f\"Nombre: {persona1.nombre}\")\n",
    "print(f\"Apellidos: {persona1.apellidos}\")\n",
    "print(f\"Dni: {persona1.dni}\")\n",
    "print(f\"Talla: {persona1.talla}\")\n"
   ]
  },
  {
   "cell_type": "code",
   "execution_count": 3,
   "id": "c87f0cc8",
   "metadata": {},
   "outputs": [],
   "source": [
    "#Problema 02\n",
    "#Crear la siguiente clase y utilizar constructores:\n",
    "#Clase: Curso\n",
    "#Atributos: Codigo,Nombre,Horas,Creaditos\n",
    "class Curso:\n",
    "    def __init__(self,codigo,nombre,horas,creditos):\n",
    "        self.codigo=codigo\n",
    "        self.nombre=nombre\n",
    "        self.horas = horas\n",
    "        self.creditos=creditos\n",
    "    def mostrar_datos_curso(self):\n",
    "        print(f\"Nombre:{self.nombre}\")\n",
    "        print(f\"Codigo: {self.codigo}\")\n",
    "        print(f\"Horas: {self.horas}\")\n",
    "        print(f\"Creditos: {self.creditos}\")\n",
    "curso1=Curso(\"C0501\",\"Lp3\",6,3)"
   ]
  },
  {
   "cell_type": "code",
   "execution_count": 4,
   "id": "ed7ff399",
   "metadata": {},
   "outputs": [
    {
     "name": "stdout",
     "output_type": "stream",
     "text": [
      "Nombre:Lp3\n",
      "Codigo: C0501\n",
      "Horas: 6\n",
      "Creditos: 3\n"
     ]
    }
   ],
   "source": [
    "curso1.mostrar_datos_curso()"
   ]
  }
 ],
 "metadata": {
  "kernelspec": {
   "display_name": "Python 3 (ipykernel)",
   "language": "python",
   "name": "python3"
  },
  "language_info": {
   "codemirror_mode": {
    "name": "ipython",
    "version": 3
   },
   "file_extension": ".py",
   "mimetype": "text/x-python",
   "name": "python",
   "nbconvert_exporter": "python",
   "pygments_lexer": "ipython3",
   "version": "3.9.12"
  }
 },
 "nbformat": 4,
 "nbformat_minor": 5
}
