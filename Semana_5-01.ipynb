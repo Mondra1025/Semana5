{
 "cells": [
  {
   "cell_type": "markdown",
   "id": "19fb3787",
   "metadata": {},
   "source": [
    "# Semana 5"
   ]
  },
  {
   "cell_type": "raw",
   "id": "346a4410",
   "metadata": {},
   "source": [
    "# Ing. Alberto Ismael Mondragon Parodi"
   ]
  },
  {
   "cell_type": "raw",
   "id": "bbfc202d",
   "metadata": {},
   "source": [
    "1. Colecciones de datos\n",
    "2. Bucles y condiciones\n",
    "3. Funciones\n",
    "4. Clases y objetos"
   ]
  },
  {
   "cell_type": "raw",
   "id": "cb099dd1",
   "metadata": {},
   "source": [
    "1. Colecciones de datos"
   ]
  },
  {
   "cell_type": "code",
   "execution_count": 1,
   "id": "16d56cb8",
   "metadata": {},
   "outputs": [
    {
     "data": {
      "text/plain": [
       "('Mondragon', 'Marcani', 'Figueroa')"
      ]
     },
     "execution_count": 1,
     "metadata": {},
     "output_type": "execute_result"
    }
   ],
   "source": [
    "#Tuplas\n",
    "tupla_aula=('Marcani','Vegas', 'Figueroa', 'Navarro')\n",
    "tupla_aula"
   ]
  },
  {
   "cell_type": "code",
   "execution_count": 2,
   "id": "ab40c98f",
   "metadata": {},
   "outputs": [
    {
     "data": {
      "text/plain": [
       "'Figueroa'"
      ]
     },
     "execution_count": 2,
     "metadata": {},
     "output_type": "execute_result"
    }
   ],
   "source": [
    "tupla_aula[2]\n"
   ]
  },
  {
   "cell_type": "code",
   "execution_count": 5,
   "id": "4ec13775",
   "metadata": {},
   "outputs": [
    {
     "data": {
      "text/plain": [
       "3"
      ]
     },
     "execution_count": 5,
     "metadata": {},
     "output_type": "execute_result"
    }
   ],
   "source": [
    "len(tupla_aula)"
   ]
  },
  {
   "cell_type": "code",
   "execution_count": 6,
   "id": "4e6e9bf3",
   "metadata": {},
   "outputs": [
    {
     "data": {
      "text/plain": [
       "{'Luque', 'Moreno', 'Pascacio', 'Ramon'}"
      ]
     },
     "execution_count": 6,
     "metadata": {},
     "output_type": "execute_result"
    }
   ],
   "source": [
    "conjunto_aula={'Ramon','Moreno','Pascacio','Luque'}\n",
    "conjunto_aula"
   ]
  },
  {
   "cell_type": "code",
   "execution_count": 8,
   "id": "2237266a",
   "metadata": {},
   "outputs": [
    {
     "name": "stdout",
     "output_type": "stream",
     "text": [
      "Ramon\n",
      "Moreno\n",
      "Luque\n",
      "Pascacio\n"
     ]
    }
   ],
   "source": [
    "for alumno in conjunto_aula:\n",
    "    print(alumno)"
   ]
  },
  {
   "cell_type": "code",
   "execution_count": 9,
   "id": "ccb24afc",
   "metadata": {},
   "outputs": [],
   "source": [
    "#Observación: No se puede acceder por posición pues no considera indexación"
   ]
  },
  {
   "cell_type": "code",
   "execution_count": 10,
   "id": "3a363488",
   "metadata": {},
   "outputs": [
    {
     "data": {
      "text/plain": [
       "{'Luque', 'Moreno', 'Muñoz', 'Pascacio', 'Ramon'}"
      ]
     },
     "execution_count": 10,
     "metadata": {},
     "output_type": "execute_result"
    }
   ],
   "source": [
    "conjunto_aula.add('Muñoz')\n",
    "conjunto_aula"
   ]
  },
  {
   "cell_type": "code",
   "execution_count": 11,
   "id": "c58820d7",
   "metadata": {},
   "outputs": [
    {
     "data": {
      "text/plain": [
       "{'Moreno', 'Muñoz', 'Pascacio', 'Ramon'}"
      ]
     },
     "execution_count": 11,
     "metadata": {},
     "output_type": "execute_result"
    }
   ],
   "source": [
    "conjunto_aula.remove('Luque')\n",
    "conjunto_aula"
   ]
  },
  {
   "cell_type": "code",
   "execution_count": 15,
   "id": "315c9a97",
   "metadata": {},
   "outputs": [
    {
     "data": {
      "text/plain": [
       "{2: 'Muñoz', '1': 'Luque', 'dos': 'Pascasio', '3': 'Navarro', '0': 'Lopez'}"
      ]
     },
     "execution_count": 15,
     "metadata": {},
     "output_type": "execute_result"
    }
   ],
   "source": [
    "#Diccionarios\n",
    "#Es una colección de elementos que están indexados\n",
    "#No estan ordenados y se pueden modificar\n",
    "#Son escritos entre llaves y están formados por pares de elementos\n",
    "diccionario_aula={2:'Muñoz','1':'Luque','dos':'Pascasio','3':'Navarro','0':'Lopez'}\n",
    "diccionario_aula"
   ]
  },
  {
   "cell_type": "code",
   "execution_count": 16,
   "id": "93cfa99d",
   "metadata": {},
   "outputs": [
    {
     "data": {
      "text/plain": [
       "'Muñoz'"
      ]
     },
     "execution_count": 16,
     "metadata": {},
     "output_type": "execute_result"
    }
   ],
   "source": [
    "diccionario_aula[2]"
   ]
  },
  {
   "cell_type": "code",
   "execution_count": 17,
   "id": "8a317da6",
   "metadata": {},
   "outputs": [
    {
     "data": {
      "text/plain": [
       "'Luque'"
      ]
     },
     "execution_count": 17,
     "metadata": {},
     "output_type": "execute_result"
    }
   ],
   "source": [
    "diccionario_aula['1']"
   ]
  },
  {
   "cell_type": "code",
   "execution_count": 18,
   "id": "1635510f",
   "metadata": {},
   "outputs": [
    {
     "data": {
      "text/plain": [
       "{2: 'Muñoz',\n",
       " '1': 'Luque',\n",
       " 'dos': 'Pascasio',\n",
       " '3': 'Navarro',\n",
       " '0': 'Lopez',\n",
       " '20': 'Tenorio'}"
      ]
     },
     "execution_count": 18,
     "metadata": {},
     "output_type": "execute_result"
    }
   ],
   "source": [
    "diccionario_aula['20']=\"Tenorio\"\n",
    "diccionario_aula"
   ]
  },
  {
   "cell_type": "code",
   "execution_count": 22,
   "id": "35a07bd3",
   "metadata": {},
   "outputs": [
    {
     "data": {
      "text/plain": [
       "{'1': 'Luque',\n",
       " 'dos': 'Pascasio',\n",
       " '3': 'Navarro',\n",
       " '0': 'Lopez',\n",
       " '20': 'Tenorio'}"
      ]
     },
     "execution_count": 22,
     "metadata": {},
     "output_type": "execute_result"
    }
   ],
   "source": [
    "diccionario_aula.pop(2)\n",
    "diccionario_aula"
   ]
  },
  {
   "cell_type": "code",
   "execution_count": 23,
   "id": "5553266a",
   "metadata": {},
   "outputs": [
    {
     "data": {
      "text/plain": [
       "{'1': 'Luque', '3': 'Navarro', '0': 'Lopez', '20': 'Tenorio'}"
      ]
     },
     "execution_count": 23,
     "metadata": {},
     "output_type": "execute_result"
    }
   ],
   "source": [
    "#Otra función para eliminar elementos dentro de un diccionario\n",
    "del(diccionario_aula[\"dos\"])\n",
    "diccionario_aula"
   ]
  },
  {
   "cell_type": "code",
   "execution_count": 24,
   "id": "086dc57d",
   "metadata": {},
   "outputs": [
    {
     "name": "stdout",
     "output_type": "stream",
     "text": [
      "1\n",
      "3\n",
      "0\n",
      "20\n"
     ]
    }
   ],
   "source": [
    "for indice in diccionario_aula:\n",
    "    print(indice)"
   ]
  },
  {
   "cell_type": "code",
   "execution_count": 43,
   "id": "c63f3e82",
   "metadata": {},
   "outputs": [
    {
     "name": "stdout",
     "output_type": "stream",
     "text": [
      "1 Luque\n",
      "3 Navarro\n",
      "0 Lopez\n",
      "20 Tenorio\n"
     ]
    }
   ],
   "source": [
    "for indice,valor in diccionario_aula.items():\n",
    "    print(indice,valor)"
   ]
  },
  {
   "cell_type": "code",
   "execution_count": 47,
   "id": "80207520",
   "metadata": {
    "scrolled": true
   },
   "outputs": [
    {
     "name": "stdout",
     "output_type": "stream",
     "text": [
      "Ingrese el nombre del alumno que desea buscar:Mondragon\n",
      "Mondragon se encuentra en la lista\n"
     ]
    }
   ],
   "source": [
    "'''Ejercicio 1\n",
    "Dado una lista de {alumnos}\n",
    "Diseñar un codigo que muestre el resultado si el apellido de un estudiante forma parte de la lista'''\n",
    "curso=[\"Figueroa\",\"Garcia\",\"Guitierrez\",\"Isla\",\"Lopez\",\"Luque\",\"Mamani\",\"Marcani\",\"Mondragon\",\"Moreno\",\"Muñoz\",\"Navarro\",\"Otazu\",\"Pascacio\",\"Ramon\",\"Tenorio\",\"Vegas\"]\n",
    "alumno=input(\"Ingrese el nombre del alumno que desea buscar:\")\n",
    "for nombre in curso:\n",
    "    if(nombre==alumno):\n",
    "        print(f\"{alumno} se encuentra en la lista\")"
   ]
  }
 ],
 "metadata": {
  "kernelspec": {
   "display_name": "Python 3 (ipykernel)",
   "language": "python",
   "name": "python3"
  },
  "language_info": {
   "codemirror_mode": {
    "name": "ipython",
    "version": 3
   },
   "file_extension": ".py",
   "mimetype": "text/x-python",
   "name": "python",
   "nbconvert_exporter": "python",
   "pygments_lexer": "ipython3",
   "version": "3.9.12"
  }
 },
 "nbformat": 4,
 "nbformat_minor": 5
}
