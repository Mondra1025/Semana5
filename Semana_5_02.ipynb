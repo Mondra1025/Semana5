{
 "cells": [
  {
   "cell_type": "markdown",
   "id": "19fb3787",
   "metadata": {},
   "source": [
    "# Semana 5"
   ]
  },
  {
   "cell_type": "raw",
   "id": "346a4410",
   "metadata": {},
   "source": [
    "# Ing. Alberto Ismael Mondragon Parodi"
   ]
  },
  {
   "cell_type": "raw",
   "id": "46ee799f",
   "metadata": {},
   "source": [
    "1. Colecciones de datos\n",
    "2. Bucles y condiciones\n",
    "3. Funciones\n",
    "4. Clases y objetos"
   ]
  },
  {
   "cell_type": "raw",
   "id": "cb099dd1",
   "metadata": {},
   "source": [
    "2. Bucles y Condiciones"
   ]
  },
  {
   "cell_type": "code",
   "execution_count": 4,
   "id": "a1e30785",
   "metadata": {},
   "outputs": [
    {
     "name": "stdout",
     "output_type": "stream",
     "text": [
      "Producto 1:1000\n",
      "Producto 2:1000\n",
      "Producto 3:1000\n",
      "Se aplicara el descuento del 10%\n",
      "El precio final es 2700.0\n"
     ]
    }
   ],
   "source": [
    "#Problema:Dado el precio de 3 productos ingresados por teclado\n",
    "#Aplicar un descuento del 10% si la venta es mayor o igual a 100\n",
    "p1=float(input(\"Producto 1:\"))\n",
    "p2=float(input(\"Producto 2:\"))\n",
    "p3=float(input(\"Producto 3:\"))\n",
    "venta=p1+p2+p3\n",
    "if venta>=100 and venta >0:\n",
    "    print(\"Se aplicara el descuento del 10%\")\n",
    "    total=0.9*venta\n",
    "    print(f\"El precio final es {total}\")\n",
    "elif venta<100 and venta>0:\n",
    "    print(f\"El precio final es {venta}\")\n",
    "else:\n",
    "    print(\"Valor no permitido\")"
   ]
  },
  {
   "cell_type": "code",
   "execution_count": 14,
   "id": "4152b5d6",
   "metadata": {},
   "outputs": [
    {
     "name": "stdout",
     "output_type": "stream",
     "text": [
      "Ingrese el nombre del alumno que desea buscar:Mondragon\n",
      "Si se encuentra en la lista\n"
     ]
    }
   ],
   "source": [
    "curso=[\"Figueroa\",\"Garcia\",\"Guitierrez\",\"Isla\",\"Lopez\",\"Luque\",\"Mamani\",\"Marcani\",\"Mondragon\",\"Moreno\",\"Muñoz\",\"Navarro\",\"Otazu\",\"Pascacio\",\"Ramon\",\"Tenorio\",\"Vegas\"]\n",
    "alumno=input(\"Ingrese el nombre del alumno que desea buscar:\")\n",
    "if alumno in curso:\n",
    "    print(\"Si se encuentra en la lista\")\n",
    "else: \n",
    "    print(\"No se encuentra en la lista\")"
   ]
  },
  {
   "cell_type": "code",
   "execution_count": 19,
   "id": "cd016632",
   "metadata": {},
   "outputs": [
    {
     "name": "stdout",
     "output_type": "stream",
     "text": [
      "Importe de ventas realizados: 10000\n",
      "El trabajador es de categoria D\n"
     ]
    }
   ],
   "source": [
    "'''Problema 2\n",
    "Dado el importe total de ventas realizados por un trabajador(INgresado por teclado,\n",
    "categorizar que tipo de empleado es,considerando la siguente tabla:\n",
    "categoria A ->[0,1000]\n",
    "Catergoria B-> <1000,2000]\n",
    "Categoria c-> <2000,5000]\n",
    "Categoria D -> <5000,Mas]\n",
    ")'''\n",
    "total=float(input(\"Importe de ventas realizados: \"))\n",
    "if total>0 and total<=1000:\n",
    "    print(\"El trabajador es de categoria A\")\n",
    "elif total>0 and total>1000 and total <=2000:\n",
    "    print(\"El trabajador es de categoria B\")\n",
    "elif total>0 and total>2000 and total<=5000:\n",
    "    print(\"El trabajador es de caategoria C\")\n",
    "elif total >0 and total>5000:\n",
    "    print(\"El trabajador es de categoria D\")\n",
    "else:\n",
    "    print(\"Valor no permitido\")"
   ]
  },
  {
   "cell_type": "code",
   "execution_count": 22,
   "id": "1169661e",
   "metadata": {},
   "outputs": [
    {
     "name": "stdout",
     "output_type": "stream",
     "text": [
      "Ingrese la cadena: Hola\n",
      "H\n",
      "o\n",
      "l\n",
      "a\n"
     ]
    }
   ],
   "source": [
    "cadena=input(\"Ingrese la cadena: \")\n",
    "for caracter in cadena:\n",
    "    print(caracter)"
   ]
  },
  {
   "cell_type": "code",
   "execution_count": 24,
   "id": "0b28eec7",
   "metadata": {},
   "outputs": [
    {
     "data": {
      "text/plain": [
       "range(0, 5)"
      ]
     },
     "execution_count": 24,
     "metadata": {},
     "output_type": "execute_result"
    }
   ],
   "source": [
    "range(5)"
   ]
  },
  {
   "cell_type": "code",
   "execution_count": 26,
   "id": "8ae62b9b",
   "metadata": {},
   "outputs": [
    {
     "name": "stdout",
     "output_type": "stream",
     "text": [
      "10\n",
      "12\n",
      "14\n",
      "16\n",
      "18\n",
      "20\n"
     ]
    }
   ],
   "source": [
    "for numero in range(10,22,2):\n",
    "    print(numero)"
   ]
  },
  {
   "cell_type": "code",
   "execution_count": 27,
   "id": "5dbb87b5",
   "metadata": {},
   "outputs": [
    {
     "name": "stdout",
     "output_type": "stream",
     "text": [
      "1\n",
      "2\n",
      "3\n",
      "4\n",
      "5\n",
      "6\n",
      "7\n",
      "8\n",
      "9\n",
      "10\n"
     ]
    }
   ],
   "source": [
    "numero = 1\n",
    "fin=10\n",
    "while numero <=fin:\n",
    "    print(numero)\n",
    "    numero+=1"
   ]
  },
  {
   "cell_type": "code",
   "execution_count": null,
   "id": "69c51fc3",
   "metadata": {},
   "outputs": [],
   "source": []
  }
 ],
 "metadata": {
  "kernelspec": {
   "display_name": "Python 3 (ipykernel)",
   "language": "python",
   "name": "python3"
  },
  "language_info": {
   "codemirror_mode": {
    "name": "ipython",
    "version": 3
   },
   "file_extension": ".py",
   "mimetype": "text/x-python",
   "name": "python",
   "nbconvert_exporter": "python",
   "pygments_lexer": "ipython3",
   "version": "3.9.12"
  }
 },
 "nbformat": 4,
 "nbformat_minor": 5
}
