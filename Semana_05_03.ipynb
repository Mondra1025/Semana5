{
 "cells": [
  {
   "cell_type": "markdown",
   "id": "19fb3787",
   "metadata": {},
   "source": [
    "# Semana 5"
   ]
  },
  {
   "cell_type": "raw",
   "id": "346a4410",
   "metadata": {},
   "source": [
    "# Ing. Alberto Ismael Mondragon Parodi"
   ]
  },
  {
   "cell_type": "raw",
   "id": "95f53f9b",
   "metadata": {},
   "source": [
    "1. Colecciones de datos\n",
    "2. Bucles y condiciones\n",
    "3. Funciones\n",
    "4. Clases y objetos"
   ]
  },
  {
   "cell_type": "raw",
   "id": "cb099dd1",
   "metadata": {},
   "source": [
    "3. Funciones"
   ]
  },
  {
   "cell_type": "code",
   "execution_count": 2,
   "id": "309eec3d",
   "metadata": {},
   "outputs": [
    {
     "name": "stdout",
     "output_type": "stream",
     "text": [
      "Bienvenidos al curso de LP3\n",
      "###### Python ######\n"
     ]
    }
   ],
   "source": [
    "def saludo():\n",
    "    print(\"Bienvenidos al curso de LP3\")\n",
    "    print(\"###### Python ######\")\n",
    "saludo()"
   ]
  },
  {
   "cell_type": "code",
   "execution_count": 9,
   "id": "faf2497e",
   "metadata": {},
   "outputs": [
    {
     "name": "stdout",
     "output_type": "stream",
     "text": [
      "Ingrese un numero: 10\n",
      "El factorial es 3628800\n"
     ]
    }
   ],
   "source": [
    "n=int(input(\"Ingrese un numero: \"))\n",
    "def factorial(numero):\n",
    "    fac =1\n",
    "    for i in range(1,numero+1):\n",
    "        fac*=i\n",
    "    print(f\"El factorial es {fac}\")\n",
    "factorial(n)"
   ]
  },
  {
   "cell_type": "code",
   "execution_count": 11,
   "id": "b41fe902",
   "metadata": {},
   "outputs": [
    {
     "data": {
      "text/plain": [
       "'Bienvenidos a LP3'"
      ]
     },
     "execution_count": 11,
     "metadata": {},
     "output_type": "execute_result"
    }
   ],
   "source": [
    "def saludo2():\n",
    "    mensaje=\"Bienvenidos a LP3\"\n",
    "    return mensaje\n",
    "saludo2()"
   ]
  },
  {
   "cell_type": "code",
   "execution_count": 13,
   "id": "04868c1e",
   "metadata": {},
   "outputs": [
    {
     "name": "stdout",
     "output_type": "stream",
     "text": [
      "Ingrese un numero9\n"
     ]
    },
    {
     "data": {
      "text/plain": [
       "362880"
      ]
     },
     "execution_count": 13,
     "metadata": {},
     "output_type": "execute_result"
    }
   ],
   "source": [
    "n=int(input(\"Ingrese un numero: \"))\n",
    "def factorial2(numero):\n",
    "    fac =1\n",
    "    for i in range(1,n+1):\n",
    "        fac*=i\n",
    "    return fac\n",
    "factorial2(n)"
   ]
  },
  {
   "cell_type": "code",
   "execution_count": 15,
   "id": "a38acaeb",
   "metadata": {},
   "outputs": [
    {
     "data": {
      "text/plain": [
       "27.0"
      ]
     },
     "execution_count": 15,
     "metadata": {},
     "output_type": "execute_result"
    }
   ],
   "source": [
    "def obtenerigv(importe):\n",
    "    return importe*0.18\n",
    "obtenerigv(150)"
   ]
  },
  {
   "cell_type": "code",
   "execution_count": null,
   "id": "09eed178",
   "metadata": {},
   "outputs": [],
   "source": [
    "factorial"
   ]
  }
 ],
 "metadata": {
  "kernelspec": {
   "display_name": "Python 3 (ipykernel)",
   "language": "python",
   "name": "python3"
  },
  "language_info": {
   "codemirror_mode": {
    "name": "ipython",
    "version": 3
   },
   "file_extension": ".py",
   "mimetype": "text/x-python",
   "name": "python",
   "nbconvert_exporter": "python",
   "pygments_lexer": "ipython3",
   "version": "3.9.12"
  }
 },
 "nbformat": 4,
 "nbformat_minor": 5
}
